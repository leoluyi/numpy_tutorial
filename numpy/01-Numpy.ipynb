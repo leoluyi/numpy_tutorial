{
 "cells": [
  {
   "cell_type": "markdown",
   "metadata": {
    "deletable": true,
    "editable": true
   },
   "source": [
    "# Numpy 介紹"
   ]
  },
  {
   "cell_type": "code",
   "execution_count": null,
   "metadata": {
    "collapsed": true,
    "deletable": true,
    "editable": true
   },
   "outputs": [],
   "source": [
    "# 起手式\n",
    "import numpy as np"
   ]
  },
  {
   "cell_type": "markdown",
   "metadata": {
    "deletable": true,
    "editable": true
   },
   "source": [
    "### 建立 ndarray"
   ]
  },
  {
   "cell_type": "code",
   "execution_count": null,
   "metadata": {
    "collapsed": false,
    "deletable": true,
    "editable": true
   },
   "outputs": [],
   "source": [
    "np.array([1,2,3,4])"
   ]
  },
  {
   "cell_type": "code",
   "execution_count": null,
   "metadata": {
    "collapsed": true,
    "deletable": true,
    "editable": true
   },
   "outputs": [],
   "source": [
    "x = _"
   ]
  },
  {
   "cell_type": "code",
   "execution_count": null,
   "metadata": {
    "collapsed": false,
    "deletable": true,
    "editable": true
   },
   "outputs": [],
   "source": [
    "y = np.array([[1.,2,3],[4,5,6]])\n",
    "y"
   ]
  },
  {
   "cell_type": "markdown",
   "metadata": {
    "deletable": true,
    "editable": true
   },
   "source": [
    "看 ndarray 的第一件事情：  shape , dtype"
   ]
  },
  {
   "cell_type": "code",
   "execution_count": null,
   "metadata": {
    "collapsed": false,
    "deletable": true,
    "editable": true
   },
   "outputs": [],
   "source": [
    "x.shape"
   ]
  },
  {
   "cell_type": "code",
   "execution_count": null,
   "metadata": {
    "collapsed": false,
    "deletable": true,
    "editable": true
   },
   "outputs": [],
   "source": [
    "y.shape"
   ]
  },
  {
   "cell_type": "code",
   "execution_count": null,
   "metadata": {
    "collapsed": false,
    "deletable": true,
    "editable": true
   },
   "outputs": [],
   "source": [
    "x.dtype"
   ]
  },
  {
   "cell_type": "code",
   "execution_count": null,
   "metadata": {
    "collapsed": false,
    "deletable": true,
    "editable": true
   },
   "outputs": [],
   "source": [
    "y.dtype"
   ]
  },
  {
   "cell_type": "markdown",
   "metadata": {
    "deletable": true,
    "editable": true
   },
   "source": [
    "### 有時候，可以看圖"
   ]
  },
  {
   "cell_type": "code",
   "execution_count": null,
   "metadata": {
    "collapsed": false,
    "deletable": true,
    "editable": true
   },
   "outputs": [],
   "source": [
    "# import matplotlib\n",
    "%matplotlib inline\n",
    "import matplotlib.pyplot as plt\n",
    "# 畫圖\n",
    "plt.plot(x, 'x');"
   ]
  },
  {
   "cell_type": "markdown",
   "metadata": {
    "deletable": true,
    "editable": true
   },
   "source": [
    "### 有很多其他建立的方式"
   ]
  },
  {
   "cell_type": "code",
   "execution_count": null,
   "metadata": {
    "collapsed": false,
    "deletable": true,
    "editable": true
   },
   "outputs": [],
   "source": [
    "# 建立 0 array\n",
    "np.zeros_like(y)"
   ]
  },
  {
   "cell_type": "code",
   "execution_count": null,
   "metadata": {
    "collapsed": false,
    "deletable": true,
    "editable": true
   },
   "outputs": [],
   "source": [
    "np.zeros((10,10))"
   ]
  },
  {
   "cell_type": "code",
   "execution_count": null,
   "metadata": {
    "collapsed": false,
    "deletable": true,
    "editable": true
   },
   "outputs": [],
   "source": [
    "# 跟 range 差不多\n",
    "x = np.arange(0, 10, 0.1)\n",
    "# 亂數\n",
    "y = np.random.uniform(-1,1, size=x.shape)\n",
    "plt.plot(x, y)"
   ]
  },
  {
   "cell_type": "markdown",
   "metadata": {
    "deletable": true,
    "editable": true
   },
   "source": [
    "這是一堆資料\n",
    "* 資料有什麼資訊？\n",
    "* 資料有什麼限制？\n",
    "* 這些限制有什麼意義？好處？\n",
    "* 以前碰過什麼類似的東西？\n",
    "* 可以套用在哪些東西上面？\n",
    "* 可以怎麼用（運算）?"
   ]
  },
  {
   "cell_type": "markdown",
   "metadata": {
    "deletable": true,
    "editable": true
   },
   "source": [
    "最簡單的計算是 **逐項計算**\n",
    "see also `np.vectorize`"
   ]
  },
  {
   "cell_type": "code",
   "execution_count": null,
   "metadata": {
    "collapsed": false,
    "deletable": true,
    "editable": true
   },
   "outputs": [],
   "source": [
    "x = np.linspace(0, 2* np.pi, 1000)\n",
    "plt.plot(x, np.sin(x))"
   ]
  },
  {
   "cell_type": "markdown",
   "metadata": {
    "deletable": true,
    "editable": true
   },
   "source": [
    "## Q0:\n",
    "畫出 $y=x^2+1$ 或其他函數的圖形\n",
    "用\n",
    "```python\n",
    "plt.plot?\n",
    "```\n",
    "看看 plot 還有什麼參數可以玩"
   ]
  },
  {
   "cell_type": "code",
   "execution_count": null,
   "metadata": {
    "collapsed": false,
    "deletable": true,
    "editable": true
   },
   "outputs": [],
   "source": [
    "#可以用 %run -i 跑參考範例\n",
    "%run -i q0.py"
   ]
  },
  {
   "cell_type": "code",
   "execution_count": null,
   "metadata": {
    "collapsed": false,
    "deletable": true,
    "editable": true
   },
   "outputs": [],
   "source": [
    "# 或者看看參考範例\n",
    "#%load q0.py"
   ]
  },
  {
   "cell_type": "markdown",
   "metadata": {
    "deletable": true,
    "editable": true
   },
   "source": [
    "## Q1:\n",
    "試試看圖片。\n",
    "使用\n",
    "```python\n",
    "from PIL import Image\n",
    "# 讀入 PIL Image (這張圖是從 openclipart 來的 cc0)\n",
    "img = Image.open('img/Green-Rolling-Hills-Landscape-800px.png')\n",
    "# 圖片轉成 ndarray\n",
    "img_array = np.array(img)\n",
    "# ndarray 轉成 PIL Image\n",
    "Image.fromarray(img_array)\n",
    "```\n",
    "看看這個圖片的內容, dtype 和 shape "
   ]
  },
  {
   "cell_type": "code",
   "execution_count": null,
   "metadata": {
    "collapsed": false,
    "deletable": true,
    "editable": true
   },
   "outputs": [],
   "source": [
    "# 參考答案\n",
    "#%load q1.py "
   ]
  },
  {
   "cell_type": "markdown",
   "metadata": {
    "deletable": true,
    "editable": true
   },
   "source": [
    "### Indexing\n",
    "可以用類似 list 的 indexing"
   ]
  },
  {
   "cell_type": "code",
   "execution_count": null,
   "metadata": {
    "collapsed": false,
    "deletable": true,
    "editable": true
   },
   "outputs": [],
   "source": [
    "a = np.arange(30)\n",
    "a"
   ]
  },
  {
   "cell_type": "code",
   "execution_count": null,
   "metadata": {
    "collapsed": false,
    "deletable": true,
    "editable": true
   },
   "outputs": [],
   "source": [
    "a[5]"
   ]
  },
  {
   "cell_type": "code",
   "execution_count": null,
   "metadata": {
    "collapsed": false,
    "deletable": true,
    "editable": true
   },
   "outputs": [],
   "source": [
    "a[3:7]"
   ]
  },
  {
   "cell_type": "code",
   "execution_count": null,
   "metadata": {
    "collapsed": false,
    "deletable": true,
    "editable": true
   },
   "outputs": [],
   "source": [
    "# 列出所有奇數項\n",
    "a[1::2]"
   ]
  },
  {
   "cell_type": "code",
   "execution_count": null,
   "metadata": {
    "collapsed": false,
    "deletable": true,
    "editable": true
   },
   "outputs": [],
   "source": [
    "# 還可以用來設定值\n",
    "a[1::2]  = -1\n",
    "a"
   ]
  },
  {
   "cell_type": "code",
   "execution_count": null,
   "metadata": {
    "collapsed": false,
    "deletable": true,
    "editable": true
   },
   "outputs": [],
   "source": [
    "# 或是\n",
    "a[1::2] = -a[::2]-1\n",
    "a"
   ]
  },
  {
   "cell_type": "markdown",
   "metadata": {
    "deletable": true,
    "editable": true
   },
   "source": [
    "## Q2\n",
    "給定\n",
    "```python\n",
    "x = np.arange(30)\n",
    "a = np.arange(30)\n",
    "a[1::2] = -a[1::2]\n",
    "```\n",
    "畫出下面的圖"
   ]
  },
  {
   "cell_type": "code",
   "execution_count": null,
   "metadata": {
    "collapsed": false,
    "deletable": true,
    "editable": true
   },
   "outputs": [],
   "source": [
    "%run -i q2.py\n",
    "#%load q2.py"
   ]
  },
  {
   "cell_type": "markdown",
   "metadata": {
    "deletable": true,
    "editable": true
   },
   "source": [
    "### ndarray 也可以"
   ]
  },
  {
   "cell_type": "code",
   "execution_count": null,
   "metadata": {
    "collapsed": false,
    "deletable": true,
    "editable": true
   },
   "outputs": [],
   "source": [
    "b = np.array([[1,2,3], [4,5,6], [7,8,9]])\n",
    "b"
   ]
  },
  {
   "cell_type": "code",
   "execution_count": null,
   "metadata": {
    "collapsed": false,
    "deletable": true,
    "editable": true
   },
   "outputs": [],
   "source": [
    "b[1][2]"
   ]
  },
  {
   "cell_type": "code",
   "execution_count": null,
   "metadata": {
    "collapsed": false,
    "deletable": true,
    "editable": true
   },
   "outputs": [],
   "source": [
    "b[1,2]"
   ]
  },
  {
   "cell_type": "code",
   "execution_count": null,
   "metadata": {
    "collapsed": false,
    "deletable": true,
    "editable": true
   },
   "outputs": [],
   "source": [
    "b[1]"
   ]
  },
  {
   "cell_type": "markdown",
   "metadata": {
    "deletable": true,
    "editable": true
   },
   "source": [
    "## Q3\n",
    "動手試試看各種情況\n",
    "比方\n",
    "```python\n",
    "b = np.random.randint(0,99, size=(10,10))\n",
    "b[::2, 2]\n",
    "```"
   ]
  },
  {
   "cell_type": "markdown",
   "metadata": {
    "deletable": true,
    "editable": true
   },
   "source": [
    "### Fancy indexing"
   ]
  },
  {
   "cell_type": "code",
   "execution_count": null,
   "metadata": {
    "collapsed": false,
    "deletable": true,
    "editable": true
   },
   "outputs": [],
   "source": [
    "b = np.random.randint(0,99, size=(5,10))\n",
    "b"
   ]
  },
  {
   "cell_type": "markdown",
   "metadata": {
    "deletable": true,
    "editable": true
   },
   "source": [
    "試試看下面的結果\n",
    "\n",
    "想一下是怎麼一回事(numpy 在想什麼？)"
   ]
  },
  {
   "cell_type": "code",
   "execution_count": null,
   "metadata": {
    "collapsed": false,
    "deletable": true,
    "editable": true
   },
   "outputs": [],
   "source": [
    "b[[1,3]]"
   ]
  },
  {
   "cell_type": "code",
   "execution_count": null,
   "metadata": {
    "collapsed": false,
    "deletable": true,
    "editable": true
   },
   "outputs": [],
   "source": [
    "b[(1,3)]"
   ]
  },
  {
   "cell_type": "code",
   "execution_count": null,
   "metadata": {
    "collapsed": false,
    "deletable": true,
    "editable": true
   },
   "outputs": [],
   "source": [
    "b[[1,2], [3,4]]"
   ]
  },
  {
   "cell_type": "code",
   "execution_count": null,
   "metadata": {
    "collapsed": false,
    "deletable": true,
    "editable": true
   },
   "outputs": [],
   "source": [
    "b[[(1,2),(3,4)]]"
   ]
  },
  {
   "cell_type": "code",
   "execution_count": null,
   "metadata": {
    "collapsed": false,
    "deletable": true,
    "editable": true
   },
   "outputs": [],
   "source": [
    "b[[True, False, False, True, False]]"
   ]
  },
  {
   "cell_type": "markdown",
   "metadata": {
    "deletable": true,
    "editable": true
   },
   "source": [
    "## Q4\n",
    "把 `b` 中的偶數都變成 `-1`"
   ]
  },
  {
   "cell_type": "code",
   "execution_count": null,
   "metadata": {
    "collapsed": false,
    "deletable": true,
    "editable": true
   },
   "outputs": [],
   "source": [
    "#參考範例\n",
    "%run -i q4.py"
   ]
  },
  {
   "cell_type": "markdown",
   "metadata": {
    "deletable": true,
    "editable": true
   },
   "source": [
    "# 用圖形來練習"
   ]
  },
  {
   "cell_type": "code",
   "execution_count": null,
   "metadata": {
    "collapsed": false,
    "deletable": true,
    "editable": true
   },
   "outputs": [],
   "source": [
    "# 還記得剛才的\n",
    "from PIL import Image\n",
    "img = Image.open('img/Green-Rolling-Hills-Landscape-800px.png')\n",
    "img_array = np.array(img)\n",
    "Image.fromarray(img_array)"
   ]
  },
  {
   "cell_type": "code",
   "execution_count": null,
   "metadata": {
    "collapsed": true,
    "deletable": true,
    "editable": true
   },
   "outputs": [],
   "source": [
    "# 用來顯示圖片的函數\n",
    "from IPython.display import display\n",
    "def show(img_array):\n",
    "    display(Image.fromarray(img_array))"
   ]
  },
  {
   "cell_type": "markdown",
   "metadata": {
    "deletable": true,
    "editable": true
   },
   "source": [
    "## Q \n",
    "* 將圖片縮小成一半\n",
    "* 擷取中間一小塊\n",
    "* 圖片上下顛倒\n",
    "* 左右鏡射\n",
    "* 去掉綠色\n",
    "* 將圖片放大兩倍\n",
    "* 貼另外一張圖到大圖中\n",
    "```python\n",
    "from urllib.request import urlopen\n",
    "url = \"https://raw.githubusercontent.com/playcanvas/engine/master/examples/images/animation.png\"\n",
    "simg = Image.open(urlopen(url))\n",
    "```\n",
    "* 紅綠交換\n",
    "* 團片變成黑白 參考 `Y=0.299R+0.587G+0.114B` \n",
    "  * 會碰到什麼困難？ 要如何解決"
   ]
  },
  {
   "cell_type": "code",
   "execution_count": null,
   "metadata": {
    "collapsed": false,
    "deletable": true,
    "editable": true
   },
   "outputs": [],
   "source": [
    "# 將圖片縮小成一半\n",
    "%run -i q_half.py"
   ]
  },
  {
   "cell_type": "code",
   "execution_count": null,
   "metadata": {
    "collapsed": false,
    "deletable": true,
    "editable": true
   },
   "outputs": [],
   "source": [
    "# 將圖片放大\n",
    "%run -i q_scale2.py"
   ]
  },
  {
   "cell_type": "code",
   "execution_count": null,
   "metadata": {
    "collapsed": false,
    "deletable": true,
    "editable": true
   },
   "outputs": [],
   "source": [
    "# 圖片上下顛倒\n",
    "show(img_array[::-1])"
   ]
  },
  {
   "cell_type": "code",
   "execution_count": null,
   "metadata": {
    "collapsed": false,
    "deletable": true,
    "editable": true
   },
   "outputs": [],
   "source": [
    "%run -i q_paste.py"
   ]
  },
  {
   "cell_type": "code",
   "execution_count": null,
   "metadata": {
    "collapsed": false,
    "deletable": true,
    "editable": true
   },
   "outputs": [],
   "source": [
    "%run -i q_grayscale.py"
   ]
  },
  {
   "cell_type": "markdown",
   "metadata": {
    "deletable": true,
    "editable": true
   },
   "source": [
    "## Q \n",
    "* 挖掉個圓圈？ (300,300)中心，半徑 100\n",
    "* 旋轉九十度? x,y 互換？ "
   ]
  },
  {
   "cell_type": "code",
   "execution_count": null,
   "metadata": {
    "collapsed": false,
    "deletable": true,
    "editable": true
   },
   "outputs": [],
   "source": [
    "# 用迴圈畫圓\n",
    "%run -i q_slow_circle.py"
   ]
  },
  {
   "cell_type": "code",
   "execution_count": null,
   "metadata": {
    "collapsed": false,
    "deletable": true,
    "editable": true
   },
   "outputs": [],
   "source": [
    "# 用 fancy index 畫圓\n",
    "%run -i q_fast_circle.py"
   ]
  },
  {
   "cell_type": "markdown",
   "metadata": {
    "deletable": true,
    "editable": true
   },
   "source": [
    "### indexing 的其他用法"
   ]
  },
  {
   "cell_type": "code",
   "execution_count": null,
   "metadata": {
    "collapsed": false,
    "deletable": true,
    "editable": true
   },
   "outputs": [],
   "source": [
    "# 還可以做模糊化\n",
    "a = img_array.astype(float)\n",
    "for i in range(10):\n",
    "    a[1:,1:] = (a[1:,1:]+a[:-1,1:]+a[1:,:-1]+a[:-1,:-1])/4\n",
    "show(a.astype('uint8'))"
   ]
  },
  {
   "cell_type": "code",
   "execution_count": null,
   "metadata": {
    "collapsed": false,
    "deletable": true,
    "editable": true
   },
   "outputs": [],
   "source": [
    "# 求邊界\n",
    "a = img_array.astype(float)\n",
    "a = a @ [0.299, 0.587, 0.114, 0]\n",
    "a = np.abs((a[1:]-a[:-1]))*2\n",
    "show(a.astype('uint8'))"
   ]
  },
  {
   "cell_type": "markdown",
   "metadata": {
    "deletable": true,
    "editable": true
   },
   "source": [
    "## Reshaping\n",
    "`.flatten` 拉平看看資料在電腦中如何儲存？\n",
    "\n",
    "\n",
    "\n",
    "查看\n",
    "`.reshape, .T, np.rot00, .swapaxes .rollaxis`\n",
    "然後再做一下上面的事情"
   ]
  },
  {
   "cell_type": "code",
   "execution_count": null,
   "metadata": {
    "collapsed": false,
    "deletable": true,
    "editable": true
   },
   "outputs": [],
   "source": [
    "# reshaping 的應用\n",
    "R,G,B,A = img_array.reshape(-1,4).T\n",
    "plt.hist((R,G,B,A), color=\"rgby\");"
   ]
  },
  {
   "cell_type": "markdown",
   "metadata": {
    "deletable": true,
    "editable": true
   },
   "source": [
    "## 堆疊在一起\n",
    "查看 `np.vstack` `np.hstack` `np.concatenate` 然後試試看"
   ]
  },
  {
   "cell_type": "code",
   "execution_count": null,
   "metadata": {
    "collapsed": false,
    "deletable": true,
    "editable": true
   },
   "outputs": [],
   "source": [
    "# 例子\n",
    "show(np.hstack([img_array, img_array2]))"
   ]
  },
  {
   "cell_type": "code",
   "execution_count": null,
   "metadata": {
    "collapsed": false,
    "deletable": true,
    "editable": true
   },
   "outputs": [],
   "source": [
    "# 例子\n",
    "np.concatenate([img_array, img_array2], axis=2).shape"
   ]
  },
  {
   "cell_type": "markdown",
   "metadata": {
    "deletable": true,
    "editable": true
   },
   "source": [
    "## 作用在整個 array/axis 的函數"
   ]
  },
  {
   "cell_type": "code",
   "execution_count": null,
   "metadata": {
    "collapsed": false,
    "deletable": true,
    "editable": true
   },
   "outputs": [],
   "source": [
    "np.max([1,2,3,4])"
   ]
  },
  {
   "cell_type": "code",
   "execution_count": null,
   "metadata": {
    "collapsed": false,
    "deletable": true,
    "editable": true
   },
   "outputs": [],
   "source": [
    "np.sum([1,2,3,4])"
   ]
  },
  {
   "cell_type": "code",
   "execution_count": null,
   "metadata": {
    "collapsed": false,
    "deletable": true,
    "editable": true
   },
   "outputs": [],
   "source": [
    "np.mean([1,2,3,4])"
   ]
  },
  {
   "cell_type": "code",
   "execution_count": null,
   "metadata": {
    "collapsed": false,
    "deletable": true,
    "editable": true
   },
   "outputs": [],
   "source": [
    "np.min([1,2,3,4])"
   ]
  },
  {
   "cell_type": "markdown",
   "metadata": {
    "deletable": true,
    "editable": true
   },
   "source": [
    "多重意義的運用， 水平平均，整合垂直平均"
   ]
  },
  {
   "cell_type": "code",
   "execution_count": null,
   "metadata": {
    "collapsed": false,
    "deletable": true,
    "editable": true
   },
   "outputs": [],
   "source": [
    "x_mean = img_array.astype(float).min(axis=0, keepdims=True)\n",
    "print(x_mean.dtype, x_mean.shape)\n",
    "y_mean = img_array.astype(float).min(axis=1, keepdims=True)\n",
    "print(y_mean.dtype, y_mean.shape)\n",
    "# 自動 broadcast \n",
    "xy_combined = ((x_mean+y_mean)/2).astype('uint8')\n",
    "show(xy_combined)"
   ]
  },
  {
   "cell_type": "markdown",
   "metadata": {
    "deletable": true,
    "editable": true
   },
   "source": [
    "## Tensor 乘法"
   ]
  },
  {
   "cell_type": "markdown",
   "metadata": {
    "deletable": true,
    "editable": true
   },
   "source": [
    "先從點積開始"
   ]
  },
  {
   "cell_type": "code",
   "execution_count": null,
   "metadata": {
    "collapsed": false,
    "deletable": true,
    "editable": true
   },
   "outputs": [],
   "source": [
    "# = 1*4 + 2*5 + 4*6\n",
    "np.dot([1,2,3], [4,5,6])"
   ]
  },
  {
   "cell_type": "code",
   "execution_count": null,
   "metadata": {
    "collapsed": false,
    "deletable": true,
    "editable": true
   },
   "outputs": [],
   "source": [
    "u=np.array([1,2,3])\n",
    "v=np.array([4,5,6])\n",
    "print( u@v )\n",
    "print( (u*v).sum() )"
   ]
  },
  {
   "cell_type": "markdown",
   "metadata": {
    "deletable": true,
    "editable": true
   },
   "source": [
    "### 矩陣乘法\n",
    "如果忘記矩陣乘法是什麼了， 參考這裡  http://matrixmultiplication.xyz/\n",
    "或者 http://eli.thegreenplace.net/2015/visualizing-matrix-multiplication-as-a-linear-combination/\n",
    "\n",
    "\n",
    "矩陣乘法可以看成是:\n",
    "* 所有組合（其他軸）的內積（共有軸）\n",
    "* 多個行向量線性組合\n",
    "* 代入線性方程式 [A1-矩陣與基本列運算.ipynb](A1-矩陣與基本列運算.ipynb)\n",
    "* 用 numpy 來理解\n",
    "```python\n",
    "np.sum(a[:,:, np.newaxis] * b[np.newaxis, : , :], axis=1)\n",
    "dot(a, b)[i,k] = sum(a[i,:] * b[:, k])\n",
    "```\n",
    "\n",
    "### 高維度\n",
    "要如何推廣？\n",
    "* tensordot, tensor contraction, a.shape=(3,4,5), b.shape=(4,5,6), axis = 2 時等價於\n",
    "```python\n",
    "np.sum(a[..., np.newaxis] * b[np.newaxis, ...], axis=(1, 2))\n",
    "tensordot(a,b)[i,k]=sum(a[i, ...]* b[..., k])\n",
    "```\n",
    "https://en.wikipedia.org/wiki/Tensor_contraction\n",
    "\n",
    "* dot\n",
    "```python\n",
    "dot(a, b)[i,j,k,m] = sum(a[i,j,:] * b[k,:,m])\n",
    "np.tensordot(a,b, axes=(-1,-2))\n",
    "```\n",
    "* matmul 最後兩個 index 當成 matrix\n",
    "```python\n",
    "a=np.random.random(size=(3,4,5))\n",
    "b=np.random.random(size=(3,5,7))\n",
    "(a @ b).shape\n",
    "np.sum(a[..., np.newaxis] * np.moveaxis(b[..., np.newaxis], -1,-3), axis=-2)\n",
    "```\n",
    "* einsum https://en.wikipedia.org/wiki/Einstein_notation\n",
    "```python\n",
    "np.einsum('ii', a) # trace(a)\n",
    "np.einsum('ii->i', a) #diag(a)\n",
    "np.einsum('ijk,jkl', a, b) # tensordot(a,b)\n",
    "np.einsum('ijk,ikl->ijl', a,b ) # matmul(a,b)\n",
    "```"
   ]
  },
  {
   "cell_type": "code",
   "execution_count": 28,
   "metadata": {
    "collapsed": false,
    "deletable": true,
    "editable": true
   },
   "outputs": [
    {
     "data": {
      "text/plain": [
       "array([[9, 6, 4],\n",
       "       [4, 6, 7],\n",
       "       [5, 4, 6],\n",
       "       [8, 3, 1],\n",
       "       [7, 6, 1]])"
      ]
     },
     "execution_count": 28,
     "metadata": {},
     "output_type": "execute_result"
    }
   ],
   "source": [
    "A=np.random.randint(0,10, size=(5,3))\n",
    "A"
   ]
  },
  {
   "cell_type": "code",
   "execution_count": 29,
   "metadata": {
    "collapsed": false,
    "deletable": true,
    "editable": true
   },
   "outputs": [
    {
     "data": {
      "text/plain": [
       "array([[7, 0, 8, 9, 9, 3, 3],\n",
       "       [5, 9, 0, 0, 7, 8, 8],\n",
       "       [1, 0, 9, 2, 6, 1, 8]])"
      ]
     },
     "execution_count": 29,
     "metadata": {},
     "output_type": "execute_result"
    }
   ],
   "source": [
    "B=np.random.randint(0,10, size=(3,7))\n",
    "B"
   ]
  },
  {
   "cell_type": "code",
   "execution_count": 94,
   "metadata": {
    "collapsed": false,
    "deletable": true,
    "editable": true
   },
   "outputs": [
    {
     "data": {
      "text/plain": [
       "array([[ 97,  54, 108,  89, 147,  79, 107],\n",
       "       [ 65,  54,  95,  50, 120,  67, 116],\n",
       "       [ 61,  36,  94,  57, 109,  53,  95],\n",
       "       [ 72,  27,  73,  74,  99,  49,  56],\n",
       "       [ 80,  54,  65,  65, 111,  70,  77]])"
      ]
     },
     "execution_count": 94,
     "metadata": {},
     "output_type": "execute_result"
    }
   ],
   "source": [
    "A.dot(B)"
   ]
  },
  {
   "cell_type": "markdown",
   "metadata": {
    "deletable": true,
    "editable": true
   },
   "source": [
    "## Q\n",
    "* 手動算算看 A,B 的 dot\n",
    "* 試試看其他的乘法"
   ]
  },
  {
   "cell_type": "markdown",
   "metadata": {
    "deletable": true,
    "editable": true
   },
   "source": [
    "### 小結"
   ]
  },
  {
   "cell_type": "markdown",
   "metadata": {
    "deletable": true,
    "editable": true
   },
   "source": [
    "numpy 以 ndarray 為中心\n",
    "* 最基本的運算是逐項運算(用 `np.vectorize`把一般的函數變成逐項運算 )\n",
    "* indexing 很好用\n",
    "* reshaping \n",
    "* 整合的操作與計算"
   ]
  }
 ],
 "metadata": {
  "kernelspec": {
   "display_name": "Python 3",
   "language": "python",
   "name": "python3"
  },
  "language_info": {
   "codemirror_mode": {
    "name": "ipython",
    "version": 3
   },
   "file_extension": ".py",
   "mimetype": "text/x-python",
   "name": "python",
   "nbconvert_exporter": "python",
   "pygments_lexer": "ipython3",
   "version": "3.5.3"
  }
 },
 "nbformat": 4,
 "nbformat_minor": 1
}
